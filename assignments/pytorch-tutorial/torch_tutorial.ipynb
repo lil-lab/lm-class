{
  "cells": [
    {
      "cell_type": "markdown",
      "metadata": {
        "id": "QiTVhUP2XwgL"
      },
      "source": [
        "# A Brief PyTorch Tutorial for LM-class\n",
        "\n",
        "This tutorial was prepared by Zizhao Chen (zc478@cornell.edu), and is a stripped down version of [Stanford's SP 24 CS224N PyTorch Tutorial](https://colab.research.google.com/drive/1Pz8b_h-W9zIBk1p2e6v-YFYThG1NkYeS?usp=sharing).\n",
        "\n",
        "If you are using Colab, consider changing to a GPU runtime."
      ]
    },
    {
      "cell_type": "markdown",
      "metadata": {
        "id": "pSFx2QHoPPui"
      },
      "source": [
        "## Python: native features and common packages"
      ]
    },
    {
      "cell_type": "code",
      "execution_count": 9,
      "metadata": {
        "colab": {
          "base_uri": "https://localhost:8080/"
        },
        "id": "0u1-eAdFXuxN",
        "outputId": "c6c65ae2-bea7-4f5c-873e-55c4e0abe984"
      },
      "outputs": [
        {
          "name": "stdout",
          "output_type": "stream",
          "text": [
            "0 sst2\n",
            "1 newsgroups\n",
            "sst2\n",
            "newsgroups\n"
          ]
        }
      ],
      "source": [
        "# enumerate\n",
        "data_mix = [\"sst2\", \"newsgroups\"]\n",
        "for i, d in enumerate(data_mix):\n",
        "    print(i, d)\n",
        "\n",
        "for d in data_mix:\n",
        "    print(d)"
      ]
    },
    {
      "cell_type": "code",
      "execution_count": 10,
      "metadata": {
        "colab": {
          "base_uri": "https://localhost:8080/"
        },
        "id": "S5BHWtmWY_Ls",
        "outputId": "2b0fd0d4-0244-455d-d214-27f34b386f8b"
      },
      "outputs": [
        {
          "data": {
            "text/plain": [
              "['data/sst2', 'data/newsgroups']"
            ]
          },
          "execution_count": 10,
          "metadata": {},
          "output_type": "execute_result"
        }
      ],
      "source": [
        "# list comprehension\n",
        "data_paths = [\"data/\" + n for n in data_mix]\n",
        "data_paths\n",
        "\n",
        "out = []\n",
        "for n in data_mix:\n",
        "    out.append(\"data/\" + n)\n",
        "out"
      ]
    },
    {
      "cell_type": "code",
      "execution_count": 11,
      "metadata": {
        "colab": {
          "base_uri": "https://localhost:8080/"
        },
        "id": "zLXYgibEZKzK",
        "outputId": "82d0423f-87d7-47fb-fb16-c029194240a3"
      },
      "outputs": [
        {
          "data": {
            "text/plain": [
              "{'sst2': 'data/sst2', 'newsgroups': 'data/newsgroups'}"
            ]
          },
          "execution_count": 11,
          "metadata": {},
          "output_type": "execute_result"
        }
      ],
      "source": [
        "# dictionary comprehension\n",
        "data_paths_dict = {n: \"data/\" + n for n in data_mix}\n",
        "data_paths_dict"
      ]
    },
    {
      "cell_type": "code",
      "execution_count": 12,
      "metadata": {
        "colab": {
          "base_uri": "https://localhost:8080/"
        },
        "id": "Cq3HBFqhZcbo",
        "outputId": "8631186b-649f-4f00-df84-1e59679e5dc5"
      },
      "outputs": [
        {
          "name": "stdout",
          "output_type": "stream",
          "text": [
            "trying to load sst2\n",
            "trying to load newsgroups\n"
          ]
        }
      ],
      "source": [
        "# functools (often used to define callbacks in trainer)\n",
        "from functools import partial\n",
        "\n",
        "def my_load_dataset(name, verbose):\n",
        "  if verbose:\n",
        "    print(f\"trying to load {name}\") # f-strings\n",
        "  return name\n",
        "\n",
        "my_load_dataset_verbose = partial(my_load_dataset, verbose=True)\n",
        "_ = my_load_dataset_verbose(\"sst2\")\n",
        "_ = my_load_dataset_verbose(\"newsgroups\")"
      ]
    },
    {
      "cell_type": "code",
      "execution_count": 13,
      "metadata": {
        "colab": {
          "base_uri": "https://localhost:8080/"
        },
        "id": "YAb15If-aOiv",
        "outputId": "db0358b4-1cd1-44ac-97aa-1e929fe6fe5a"
      },
      "outputs": [
        {
          "data": {
            "text/plain": [
              "Counter({'a': 2, 'b': 2, 'c': 1})"
            ]
          },
          "execution_count": 13,
          "metadata": {},
          "output_type": "execute_result"
        }
      ],
      "source": [
        "# Counter - frequency dictionary\n",
        "from collections import Counter\n",
        "\n",
        "c = Counter(\"abcba\")\n",
        "c"
      ]
    },
    {
      "cell_type": "code",
      "execution_count": 14,
      "metadata": {
        "colab": {
          "base_uri": "https://localhost:8080/"
        },
        "id": "F6HMiv1yaXvb",
        "outputId": "0b203b26-dc89-4741-f38e-2b661964e2e0"
      },
      "outputs": [
        {
          "data": {
            "text/plain": [
              "Counter({-1: 1, -2: 1})"
            ]
          },
          "execution_count": 14,
          "metadata": {},
          "output_type": "execute_result"
        }
      ],
      "source": [
        "c = Counter([-1, -2])\n",
        "c"
      ]
    },
    {
      "cell_type": "code",
      "execution_count": 15,
      "metadata": {
        "colab": {
          "base_uri": "https://localhost:8080/"
        },
        "id": "xeMRJfs1aW40",
        "outputId": "229588fc-0202-4a3f-9fdf-68b841b8c39f"
      },
      "outputs": [
        {
          "name": "stdout",
          "output_type": "stream",
          "text": [
            "defaultdict(<class 'int'>, {})\n"
          ]
        },
        {
          "data": {
            "text/plain": [
              "defaultdict(int, {'abc': 1})"
            ]
          },
          "execution_count": 15,
          "metadata": {},
          "output_type": "execute_result"
        }
      ],
      "source": [
        "# defaultdict: avoids checking for key existance\n",
        "from collections import defaultdict\n",
        "\n",
        "d = defaultdict(int)\n",
        "print(d)\n",
        "d[\"abc\"] += 1\n",
        "d"
      ]
    },
    {
      "cell_type": "code",
      "execution_count": 16,
      "metadata": {
        "colab": {
          "base_uri": "https://localhost:8080/",
          "height": 198
        },
        "id": "fFOMYYQAaswP",
        "outputId": "531b0c42-f80d-4d9f-c9f1-83a78c37fdaf"
      },
      "outputs": [
        {
          "ename": "KeyError",
          "evalue": "'abc'",
          "output_type": "error",
          "traceback": [
            "\u001b[0;31m---------------------------------------------------------------------------\u001b[0m",
            "\u001b[0;31mKeyError\u001b[0m                                  Traceback (most recent call last)",
            "\u001b[0;32m/tmp/ipython-input-1162355676.py\u001b[0m in \u001b[0;36m<cell line: 0>\u001b[0;34m()\u001b[0m\n\u001b[1;32m      1\u001b[0m \u001b[0md\u001b[0m \u001b[0;34m=\u001b[0m \u001b[0mdict\u001b[0m\u001b[0;34m(\u001b[0m\u001b[0;34m)\u001b[0m\u001b[0;34m\u001b[0m\u001b[0;34m\u001b[0m\u001b[0m\n\u001b[0;32m----> 2\u001b[0;31m \u001b[0md\u001b[0m\u001b[0;34m[\u001b[0m\u001b[0;34m\"abc\"\u001b[0m\u001b[0;34m]\u001b[0m \u001b[0;34m+=\u001b[0m \u001b[0;36m1\u001b[0m\u001b[0;34m\u001b[0m\u001b[0;34m\u001b[0m\u001b[0m\n\u001b[0m",
            "\u001b[0;31mKeyError\u001b[0m: 'abc'"
          ]
        }
      ],
      "source": [
        "d = dict()\n",
        "d[\"abc\"] += 1"
      ]
    },
    {
      "cell_type": "code",
      "execution_count": 21,
      "metadata": {
        "colab": {
          "base_uri": "https://localhost:8080/"
        },
        "id": "kjIJDFVSarbo",
        "outputId": "abb85f1f-c2f3-44b3-e09b-4f556a912336"
      },
      "outputs": [
        {
          "name": "stderr",
          "output_type": "stream",
          "text": [
            "100%|██████████| 10/10 [00:02<00:00,  4.98it/s]\n"
          ]
        }
      ],
      "source": [
        "# tqdm: progress bars\n",
        "import tqdm\n",
        "import time\n",
        "\n",
        "for i in tqdm.tqdm(range(10)):\n",
        "    time.sleep(0.2)"
      ]
    },
    {
      "cell_type": "code",
      "execution_count": 22,
      "metadata": {
        "colab": {
          "base_uri": "https://localhost:8080/"
        },
        "id": "ZQmNzRG0bKZ4",
        "outputId": "ecbe0ef1-7c07-4d65-d942-5af584457214"
      },
      "outputs": [
        {
          "name": "stderr",
          "output_type": "stream",
          "text": [
            "WARNING:root:this is a warning\n",
            "ERROR:root:this is an error\n"
          ]
        }
      ],
      "source": [
        "# logging\n",
        "import logging\n",
        "logging.basicConfig(level=logging.INFO)\n",
        "logging.info(\"hello world\")\n",
        "logging.warning(\"this is a warning\")\n",
        "logging.error(\"this is an error\")\n",
        "logging.debug(\"this is a debug\")"
      ]
    },
    {
      "cell_type": "code",
      "execution_count": 23,
      "metadata": {
        "id": "3VIf8DFsblMy"
      },
      "outputs": [],
      "source": [
        "# argparse: tuning your learning rate without changing the code\n",
        "# https://docs.python.org/3/howto/argparse.html#the-basics"
      ]
    },
    {
      "cell_type": "code",
      "execution_count": 24,
      "metadata": {
        "colab": {
          "base_uri": "https://localhost:8080/",
          "height": 143
        },
        "id": "PIMHXER6PUsU",
        "outputId": "0e4853db-69b2-4911-f5bb-5c0c11291731"
      },
      "outputs": [
        {
          "data": {
            "application/vnd.google.colaboratory.intrinsic+json": {
              "summary": "{\n  \"name\": \"df\",\n  \"rows\": 3,\n  \"fields\": [\n    {\n      \"column\": \"a\",\n      \"properties\": {\n        \"dtype\": \"number\",\n        \"std\": 1,\n        \"min\": 1,\n        \"max\": 3,\n        \"num_unique_values\": 3,\n        \"samples\": [\n          1,\n          2,\n          3\n        ],\n        \"semantic_type\": \"\",\n        \"description\": \"\"\n      }\n    },\n    {\n      \"column\": \"b\",\n      \"properties\": {\n        \"dtype\": \"number\",\n        \"std\": 1,\n        \"min\": 4,\n        \"max\": 6,\n        \"num_unique_values\": 3,\n        \"samples\": [\n          4,\n          5,\n          6\n        ],\n        \"semantic_type\": \"\",\n        \"description\": \"\"\n      }\n    }\n  ]\n}",
              "type": "dataframe",
              "variable_name": "df"
            },
            "text/html": [
              "\n",
              "  <div id=\"df-3baefa22-018c-4ba5-b948-36958eb01413\" class=\"colab-df-container\">\n",
              "    <div>\n",
              "<style scoped>\n",
              "    .dataframe tbody tr th:only-of-type {\n",
              "        vertical-align: middle;\n",
              "    }\n",
              "\n",
              "    .dataframe tbody tr th {\n",
              "        vertical-align: top;\n",
              "    }\n",
              "\n",
              "    .dataframe thead th {\n",
              "        text-align: right;\n",
              "    }\n",
              "</style>\n",
              "<table border=\"1\" class=\"dataframe\">\n",
              "  <thead>\n",
              "    <tr style=\"text-align: right;\">\n",
              "      <th></th>\n",
              "      <th>a</th>\n",
              "      <th>b</th>\n",
              "    </tr>\n",
              "  </thead>\n",
              "  <tbody>\n",
              "    <tr>\n",
              "      <th>0</th>\n",
              "      <td>1</td>\n",
              "      <td>4</td>\n",
              "    </tr>\n",
              "    <tr>\n",
              "      <th>1</th>\n",
              "      <td>2</td>\n",
              "      <td>5</td>\n",
              "    </tr>\n",
              "    <tr>\n",
              "      <th>2</th>\n",
              "      <td>3</td>\n",
              "      <td>6</td>\n",
              "    </tr>\n",
              "  </tbody>\n",
              "</table>\n",
              "</div>\n",
              "    <div class=\"colab-df-buttons\">\n",
              "\n",
              "  <div class=\"colab-df-container\">\n",
              "    <button class=\"colab-df-convert\" onclick=\"convertToInteractive('df-3baefa22-018c-4ba5-b948-36958eb01413')\"\n",
              "            title=\"Convert this dataframe to an interactive table.\"\n",
              "            style=\"display:none;\">\n",
              "\n",
              "  <svg xmlns=\"http://www.w3.org/2000/svg\" height=\"24px\" viewBox=\"0 -960 960 960\">\n",
              "    <path d=\"M120-120v-720h720v720H120Zm60-500h600v-160H180v160Zm220 220h160v-160H400v160Zm0 220h160v-160H400v160ZM180-400h160v-160H180v160Zm440 0h160v-160H620v160ZM180-180h160v-160H180v160Zm440 0h160v-160H620v160Z\"/>\n",
              "  </svg>\n",
              "    </button>\n",
              "\n",
              "  <style>\n",
              "    .colab-df-container {\n",
              "      display:flex;\n",
              "      gap: 12px;\n",
              "    }\n",
              "\n",
              "    .colab-df-convert {\n",
              "      background-color: #E8F0FE;\n",
              "      border: none;\n",
              "      border-radius: 50%;\n",
              "      cursor: pointer;\n",
              "      display: none;\n",
              "      fill: #1967D2;\n",
              "      height: 32px;\n",
              "      padding: 0 0 0 0;\n",
              "      width: 32px;\n",
              "    }\n",
              "\n",
              "    .colab-df-convert:hover {\n",
              "      background-color: #E2EBFA;\n",
              "      box-shadow: 0px 1px 2px rgba(60, 64, 67, 0.3), 0px 1px 3px 1px rgba(60, 64, 67, 0.15);\n",
              "      fill: #174EA6;\n",
              "    }\n",
              "\n",
              "    .colab-df-buttons div {\n",
              "      margin-bottom: 4px;\n",
              "    }\n",
              "\n",
              "    [theme=dark] .colab-df-convert {\n",
              "      background-color: #3B4455;\n",
              "      fill: #D2E3FC;\n",
              "    }\n",
              "\n",
              "    [theme=dark] .colab-df-convert:hover {\n",
              "      background-color: #434B5C;\n",
              "      box-shadow: 0px 1px 3px 1px rgba(0, 0, 0, 0.15);\n",
              "      filter: drop-shadow(0px 1px 2px rgba(0, 0, 0, 0.3));\n",
              "      fill: #FFFFFF;\n",
              "    }\n",
              "  </style>\n",
              "\n",
              "    <script>\n",
              "      const buttonEl =\n",
              "        document.querySelector('#df-3baefa22-018c-4ba5-b948-36958eb01413 button.colab-df-convert');\n",
              "      buttonEl.style.display =\n",
              "        google.colab.kernel.accessAllowed ? 'block' : 'none';\n",
              "\n",
              "      async function convertToInteractive(key) {\n",
              "        const element = document.querySelector('#df-3baefa22-018c-4ba5-b948-36958eb01413');\n",
              "        const dataTable =\n",
              "          await google.colab.kernel.invokeFunction('convertToInteractive',\n",
              "                                                    [key], {});\n",
              "        if (!dataTable) return;\n",
              "\n",
              "        const docLinkHtml = 'Like what you see? Visit the ' +\n",
              "          '<a target=\"_blank\" href=https://colab.research.google.com/notebooks/data_table.ipynb>data table notebook</a>'\n",
              "          + ' to learn more about interactive tables.';\n",
              "        element.innerHTML = '';\n",
              "        dataTable['output_type'] = 'display_data';\n",
              "        await google.colab.output.renderOutput(dataTable, element);\n",
              "        const docLink = document.createElement('div');\n",
              "        docLink.innerHTML = docLinkHtml;\n",
              "        element.appendChild(docLink);\n",
              "      }\n",
              "    </script>\n",
              "  </div>\n",
              "\n",
              "\n",
              "    <div id=\"df-cf396a2e-2e9c-4794-97a6-2baa0cef71df\">\n",
              "      <button class=\"colab-df-quickchart\" onclick=\"quickchart('df-cf396a2e-2e9c-4794-97a6-2baa0cef71df')\"\n",
              "                title=\"Suggest charts\"\n",
              "                style=\"display:none;\">\n",
              "\n",
              "<svg xmlns=\"http://www.w3.org/2000/svg\" height=\"24px\"viewBox=\"0 0 24 24\"\n",
              "     width=\"24px\">\n",
              "    <g>\n",
              "        <path d=\"M19 3H5c-1.1 0-2 .9-2 2v14c0 1.1.9 2 2 2h14c1.1 0 2-.9 2-2V5c0-1.1-.9-2-2-2zM9 17H7v-7h2v7zm4 0h-2V7h2v10zm4 0h-2v-4h2v4z\"/>\n",
              "    </g>\n",
              "</svg>\n",
              "      </button>\n",
              "\n",
              "<style>\n",
              "  .colab-df-quickchart {\n",
              "      --bg-color: #E8F0FE;\n",
              "      --fill-color: #1967D2;\n",
              "      --hover-bg-color: #E2EBFA;\n",
              "      --hover-fill-color: #174EA6;\n",
              "      --disabled-fill-color: #AAA;\n",
              "      --disabled-bg-color: #DDD;\n",
              "  }\n",
              "\n",
              "  [theme=dark] .colab-df-quickchart {\n",
              "      --bg-color: #3B4455;\n",
              "      --fill-color: #D2E3FC;\n",
              "      --hover-bg-color: #434B5C;\n",
              "      --hover-fill-color: #FFFFFF;\n",
              "      --disabled-bg-color: #3B4455;\n",
              "      --disabled-fill-color: #666;\n",
              "  }\n",
              "\n",
              "  .colab-df-quickchart {\n",
              "    background-color: var(--bg-color);\n",
              "    border: none;\n",
              "    border-radius: 50%;\n",
              "    cursor: pointer;\n",
              "    display: none;\n",
              "    fill: var(--fill-color);\n",
              "    height: 32px;\n",
              "    padding: 0;\n",
              "    width: 32px;\n",
              "  }\n",
              "\n",
              "  .colab-df-quickchart:hover {\n",
              "    background-color: var(--hover-bg-color);\n",
              "    box-shadow: 0 1px 2px rgba(60, 64, 67, 0.3), 0 1px 3px 1px rgba(60, 64, 67, 0.15);\n",
              "    fill: var(--button-hover-fill-color);\n",
              "  }\n",
              "\n",
              "  .colab-df-quickchart-complete:disabled,\n",
              "  .colab-df-quickchart-complete:disabled:hover {\n",
              "    background-color: var(--disabled-bg-color);\n",
              "    fill: var(--disabled-fill-color);\n",
              "    box-shadow: none;\n",
              "  }\n",
              "\n",
              "  .colab-df-spinner {\n",
              "    border: 2px solid var(--fill-color);\n",
              "    border-color: transparent;\n",
              "    border-bottom-color: var(--fill-color);\n",
              "    animation:\n",
              "      spin 1s steps(1) infinite;\n",
              "  }\n",
              "\n",
              "  @keyframes spin {\n",
              "    0% {\n",
              "      border-color: transparent;\n",
              "      border-bottom-color: var(--fill-color);\n",
              "      border-left-color: var(--fill-color);\n",
              "    }\n",
              "    20% {\n",
              "      border-color: transparent;\n",
              "      border-left-color: var(--fill-color);\n",
              "      border-top-color: var(--fill-color);\n",
              "    }\n",
              "    30% {\n",
              "      border-color: transparent;\n",
              "      border-left-color: var(--fill-color);\n",
              "      border-top-color: var(--fill-color);\n",
              "      border-right-color: var(--fill-color);\n",
              "    }\n",
              "    40% {\n",
              "      border-color: transparent;\n",
              "      border-right-color: var(--fill-color);\n",
              "      border-top-color: var(--fill-color);\n",
              "    }\n",
              "    60% {\n",
              "      border-color: transparent;\n",
              "      border-right-color: var(--fill-color);\n",
              "    }\n",
              "    80% {\n",
              "      border-color: transparent;\n",
              "      border-right-color: var(--fill-color);\n",
              "      border-bottom-color: var(--fill-color);\n",
              "    }\n",
              "    90% {\n",
              "      border-color: transparent;\n",
              "      border-bottom-color: var(--fill-color);\n",
              "    }\n",
              "  }\n",
              "</style>\n",
              "\n",
              "      <script>\n",
              "        async function quickchart(key) {\n",
              "          const quickchartButtonEl =\n",
              "            document.querySelector('#' + key + ' button');\n",
              "          quickchartButtonEl.disabled = true;  // To prevent multiple clicks.\n",
              "          quickchartButtonEl.classList.add('colab-df-spinner');\n",
              "          try {\n",
              "            const charts = await google.colab.kernel.invokeFunction(\n",
              "                'suggestCharts', [key], {});\n",
              "          } catch (error) {\n",
              "            console.error('Error during call to suggestCharts:', error);\n",
              "          }\n",
              "          quickchartButtonEl.classList.remove('colab-df-spinner');\n",
              "          quickchartButtonEl.classList.add('colab-df-quickchart-complete');\n",
              "        }\n",
              "        (() => {\n",
              "          let quickchartButtonEl =\n",
              "            document.querySelector('#df-cf396a2e-2e9c-4794-97a6-2baa0cef71df button');\n",
              "          quickchartButtonEl.style.display =\n",
              "            google.colab.kernel.accessAllowed ? 'block' : 'none';\n",
              "        })();\n",
              "      </script>\n",
              "    </div>\n",
              "\n",
              "  <div id=\"id_40f9f173-f266-479a-b664-a6f1c35e3ea0\">\n",
              "    <style>\n",
              "      .colab-df-generate {\n",
              "        background-color: #E8F0FE;\n",
              "        border: none;\n",
              "        border-radius: 50%;\n",
              "        cursor: pointer;\n",
              "        display: none;\n",
              "        fill: #1967D2;\n",
              "        height: 32px;\n",
              "        padding: 0 0 0 0;\n",
              "        width: 32px;\n",
              "      }\n",
              "\n",
              "      .colab-df-generate:hover {\n",
              "        background-color: #E2EBFA;\n",
              "        box-shadow: 0px 1px 2px rgba(60, 64, 67, 0.3), 0px 1px 3px 1px rgba(60, 64, 67, 0.15);\n",
              "        fill: #174EA6;\n",
              "      }\n",
              "\n",
              "      [theme=dark] .colab-df-generate {\n",
              "        background-color: #3B4455;\n",
              "        fill: #D2E3FC;\n",
              "      }\n",
              "\n",
              "      [theme=dark] .colab-df-generate:hover {\n",
              "        background-color: #434B5C;\n",
              "        box-shadow: 0px 1px 3px 1px rgba(0, 0, 0, 0.15);\n",
              "        filter: drop-shadow(0px 1px 2px rgba(0, 0, 0, 0.3));\n",
              "        fill: #FFFFFF;\n",
              "      }\n",
              "    </style>\n",
              "    <button class=\"colab-df-generate\" onclick=\"generateWithVariable('df')\"\n",
              "            title=\"Generate code using this dataframe.\"\n",
              "            style=\"display:none;\">\n",
              "\n",
              "  <svg xmlns=\"http://www.w3.org/2000/svg\" height=\"24px\"viewBox=\"0 0 24 24\"\n",
              "       width=\"24px\">\n",
              "    <path d=\"M7,19H8.4L18.45,9,17,7.55,7,17.6ZM5,21V16.75L18.45,3.32a2,2,0,0,1,2.83,0l1.4,1.43a1.91,1.91,0,0,1,.58,1.4,1.91,1.91,0,0,1-.58,1.4L9.25,21ZM18.45,9,17,7.55Zm-12,3A5.31,5.31,0,0,0,4.9,8.1,5.31,5.31,0,0,0,1,6.5,5.31,5.31,0,0,0,4.9,4.9,5.31,5.31,0,0,0,6.5,1,5.31,5.31,0,0,0,8.1,4.9,5.31,5.31,0,0,0,12,6.5,5.46,5.46,0,0,0,6.5,12Z\"/>\n",
              "  </svg>\n",
              "    </button>\n",
              "    <script>\n",
              "      (() => {\n",
              "      const buttonEl =\n",
              "        document.querySelector('#id_40f9f173-f266-479a-b664-a6f1c35e3ea0 button.colab-df-generate');\n",
              "      buttonEl.style.display =\n",
              "        google.colab.kernel.accessAllowed ? 'block' : 'none';\n",
              "\n",
              "      buttonEl.onclick = () => {\n",
              "        google.colab.notebook.generateWithVariable('df');\n",
              "      }\n",
              "      })();\n",
              "    </script>\n",
              "  </div>\n",
              "\n",
              "    </div>\n",
              "  </div>\n"
            ],
            "text/plain": [
              "   a  b\n",
              "0  1  4\n",
              "1  2  5\n",
              "2  3  6"
            ]
          },
          "execution_count": 24,
          "metadata": {},
          "output_type": "execute_result"
        }
      ],
      "source": [
        "# pandas: managing tables and IO\n",
        "import pandas as pd\n",
        "df = pd.DataFrame({\"a\": [1, 2, 3], \"b\": [4, 5, 6]})\n",
        "df"
      ]
    },
    {
      "cell_type": "code",
      "execution_count": 25,
      "metadata": {
        "colab": {
          "base_uri": "https://localhost:8080/",
          "height": 178
        },
        "id": "vdqO1raMdMXA",
        "outputId": "dc024836-0fdb-4baa-d48f-dc99ccac8246"
      },
      "outputs": [
        {
          "data": {
            "text/html": [
              "<div>\n",
              "<style scoped>\n",
              "    .dataframe tbody tr th:only-of-type {\n",
              "        vertical-align: middle;\n",
              "    }\n",
              "\n",
              "    .dataframe tbody tr th {\n",
              "        vertical-align: top;\n",
              "    }\n",
              "\n",
              "    .dataframe thead th {\n",
              "        text-align: right;\n",
              "    }\n",
              "</style>\n",
              "<table border=\"1\" class=\"dataframe\">\n",
              "  <thead>\n",
              "    <tr style=\"text-align: right;\">\n",
              "      <th></th>\n",
              "      <th>a</th>\n",
              "    </tr>\n",
              "  </thead>\n",
              "  <tbody>\n",
              "    <tr>\n",
              "      <th>0</th>\n",
              "      <td>1</td>\n",
              "    </tr>\n",
              "    <tr>\n",
              "      <th>1</th>\n",
              "      <td>2</td>\n",
              "    </tr>\n",
              "    <tr>\n",
              "      <th>2</th>\n",
              "      <td>3</td>\n",
              "    </tr>\n",
              "  </tbody>\n",
              "</table>\n",
              "</div><br><label><b>dtype:</b> int64</label>"
            ],
            "text/plain": [
              "0    1\n",
              "1    2\n",
              "2    3\n",
              "Name: a, dtype: int64"
            ]
          },
          "execution_count": 25,
          "metadata": {},
          "output_type": "execute_result"
        }
      ],
      "source": [
        "df[\"a\"]"
      ]
    },
    {
      "cell_type": "code",
      "execution_count": 26,
      "metadata": {
        "colab": {
          "base_uri": "https://localhost:8080/"
        },
        "id": "0JJWMfH0eCUx",
        "outputId": "134a2a43-9615-49aa-d013-7d2599f869f1"
      },
      "outputs": [
        {
          "data": {
            "text/plain": [
              "[1, 2, 3]"
            ]
          },
          "execution_count": 26,
          "metadata": {},
          "output_type": "execute_result"
        }
      ],
      "source": [
        "df[\"a\"].tolist()"
      ]
    },
    {
      "cell_type": "code",
      "execution_count": 27,
      "metadata": {
        "colab": {
          "base_uri": "https://localhost:8080/",
          "height": 143
        },
        "id": "5_2Vo0qQb0Oi",
        "outputId": "f43d87b4-aa64-400d-f08b-7b3c3748fbc0"
      },
      "outputs": [
        {
          "data": {
            "application/vnd.google.colaboratory.intrinsic+json": {
              "summary": "{\n  \"name\": \"df2\",\n  \"rows\": 3,\n  \"fields\": [\n    {\n      \"column\": \"a\",\n      \"properties\": {\n        \"dtype\": \"number\",\n        \"std\": 1,\n        \"min\": 1,\n        \"max\": 3,\n        \"num_unique_values\": 3,\n        \"samples\": [\n          1,\n          2,\n          3\n        ],\n        \"semantic_type\": \"\",\n        \"description\": \"\"\n      }\n    },\n    {\n      \"column\": \"b\",\n      \"properties\": {\n        \"dtype\": \"number\",\n        \"std\": 1,\n        \"min\": 4,\n        \"max\": 6,\n        \"num_unique_values\": 3,\n        \"samples\": [\n          4,\n          5,\n          6\n        ],\n        \"semantic_type\": \"\",\n        \"description\": \"\"\n      }\n    }\n  ]\n}",
              "type": "dataframe",
              "variable_name": "df2"
            },
            "text/html": [
              "\n",
              "  <div id=\"df-e1e3a583-b2c0-4c0c-9ba4-79381c330070\" class=\"colab-df-container\">\n",
              "    <div>\n",
              "<style scoped>\n",
              "    .dataframe tbody tr th:only-of-type {\n",
              "        vertical-align: middle;\n",
              "    }\n",
              "\n",
              "    .dataframe tbody tr th {\n",
              "        vertical-align: top;\n",
              "    }\n",
              "\n",
              "    .dataframe thead th {\n",
              "        text-align: right;\n",
              "    }\n",
              "</style>\n",
              "<table border=\"1\" class=\"dataframe\">\n",
              "  <thead>\n",
              "    <tr style=\"text-align: right;\">\n",
              "      <th></th>\n",
              "      <th>a</th>\n",
              "      <th>b</th>\n",
              "    </tr>\n",
              "  </thead>\n",
              "  <tbody>\n",
              "    <tr>\n",
              "      <th>0</th>\n",
              "      <td>1</td>\n",
              "      <td>4</td>\n",
              "    </tr>\n",
              "    <tr>\n",
              "      <th>1</th>\n",
              "      <td>2</td>\n",
              "      <td>5</td>\n",
              "    </tr>\n",
              "    <tr>\n",
              "      <th>2</th>\n",
              "      <td>3</td>\n",
              "      <td>6</td>\n",
              "    </tr>\n",
              "  </tbody>\n",
              "</table>\n",
              "</div>\n",
              "    <div class=\"colab-df-buttons\">\n",
              "\n",
              "  <div class=\"colab-df-container\">\n",
              "    <button class=\"colab-df-convert\" onclick=\"convertToInteractive('df-e1e3a583-b2c0-4c0c-9ba4-79381c330070')\"\n",
              "            title=\"Convert this dataframe to an interactive table.\"\n",
              "            style=\"display:none;\">\n",
              "\n",
              "  <svg xmlns=\"http://www.w3.org/2000/svg\" height=\"24px\" viewBox=\"0 -960 960 960\">\n",
              "    <path d=\"M120-120v-720h720v720H120Zm60-500h600v-160H180v160Zm220 220h160v-160H400v160Zm0 220h160v-160H400v160ZM180-400h160v-160H180v160Zm440 0h160v-160H620v160ZM180-180h160v-160H180v160Zm440 0h160v-160H620v160Z\"/>\n",
              "  </svg>\n",
              "    </button>\n",
              "\n",
              "  <style>\n",
              "    .colab-df-container {\n",
              "      display:flex;\n",
              "      gap: 12px;\n",
              "    }\n",
              "\n",
              "    .colab-df-convert {\n",
              "      background-color: #E8F0FE;\n",
              "      border: none;\n",
              "      border-radius: 50%;\n",
              "      cursor: pointer;\n",
              "      display: none;\n",
              "      fill: #1967D2;\n",
              "      height: 32px;\n",
              "      padding: 0 0 0 0;\n",
              "      width: 32px;\n",
              "    }\n",
              "\n",
              "    .colab-df-convert:hover {\n",
              "      background-color: #E2EBFA;\n",
              "      box-shadow: 0px 1px 2px rgba(60, 64, 67, 0.3), 0px 1px 3px 1px rgba(60, 64, 67, 0.15);\n",
              "      fill: #174EA6;\n",
              "    }\n",
              "\n",
              "    .colab-df-buttons div {\n",
              "      margin-bottom: 4px;\n",
              "    }\n",
              "\n",
              "    [theme=dark] .colab-df-convert {\n",
              "      background-color: #3B4455;\n",
              "      fill: #D2E3FC;\n",
              "    }\n",
              "\n",
              "    [theme=dark] .colab-df-convert:hover {\n",
              "      background-color: #434B5C;\n",
              "      box-shadow: 0px 1px 3px 1px rgba(0, 0, 0, 0.15);\n",
              "      filter: drop-shadow(0px 1px 2px rgba(0, 0, 0, 0.3));\n",
              "      fill: #FFFFFF;\n",
              "    }\n",
              "  </style>\n",
              "\n",
              "    <script>\n",
              "      const buttonEl =\n",
              "        document.querySelector('#df-e1e3a583-b2c0-4c0c-9ba4-79381c330070 button.colab-df-convert');\n",
              "      buttonEl.style.display =\n",
              "        google.colab.kernel.accessAllowed ? 'block' : 'none';\n",
              "\n",
              "      async function convertToInteractive(key) {\n",
              "        const element = document.querySelector('#df-e1e3a583-b2c0-4c0c-9ba4-79381c330070');\n",
              "        const dataTable =\n",
              "          await google.colab.kernel.invokeFunction('convertToInteractive',\n",
              "                                                    [key], {});\n",
              "        if (!dataTable) return;\n",
              "\n",
              "        const docLinkHtml = 'Like what you see? Visit the ' +\n",
              "          '<a target=\"_blank\" href=https://colab.research.google.com/notebooks/data_table.ipynb>data table notebook</a>'\n",
              "          + ' to learn more about interactive tables.';\n",
              "        element.innerHTML = '';\n",
              "        dataTable['output_type'] = 'display_data';\n",
              "        await google.colab.output.renderOutput(dataTable, element);\n",
              "        const docLink = document.createElement('div');\n",
              "        docLink.innerHTML = docLinkHtml;\n",
              "        element.appendChild(docLink);\n",
              "      }\n",
              "    </script>\n",
              "  </div>\n",
              "\n",
              "\n",
              "    <div id=\"df-5f1d2cbc-c45c-4711-83cd-ef78ddc71c46\">\n",
              "      <button class=\"colab-df-quickchart\" onclick=\"quickchart('df-5f1d2cbc-c45c-4711-83cd-ef78ddc71c46')\"\n",
              "                title=\"Suggest charts\"\n",
              "                style=\"display:none;\">\n",
              "\n",
              "<svg xmlns=\"http://www.w3.org/2000/svg\" height=\"24px\"viewBox=\"0 0 24 24\"\n",
              "     width=\"24px\">\n",
              "    <g>\n",
              "        <path d=\"M19 3H5c-1.1 0-2 .9-2 2v14c0 1.1.9 2 2 2h14c1.1 0 2-.9 2-2V5c0-1.1-.9-2-2-2zM9 17H7v-7h2v7zm4 0h-2V7h2v10zm4 0h-2v-4h2v4z\"/>\n",
              "    </g>\n",
              "</svg>\n",
              "      </button>\n",
              "\n",
              "<style>\n",
              "  .colab-df-quickchart {\n",
              "      --bg-color: #E8F0FE;\n",
              "      --fill-color: #1967D2;\n",
              "      --hover-bg-color: #E2EBFA;\n",
              "      --hover-fill-color: #174EA6;\n",
              "      --disabled-fill-color: #AAA;\n",
              "      --disabled-bg-color: #DDD;\n",
              "  }\n",
              "\n",
              "  [theme=dark] .colab-df-quickchart {\n",
              "      --bg-color: #3B4455;\n",
              "      --fill-color: #D2E3FC;\n",
              "      --hover-bg-color: #434B5C;\n",
              "      --hover-fill-color: #FFFFFF;\n",
              "      --disabled-bg-color: #3B4455;\n",
              "      --disabled-fill-color: #666;\n",
              "  }\n",
              "\n",
              "  .colab-df-quickchart {\n",
              "    background-color: var(--bg-color);\n",
              "    border: none;\n",
              "    border-radius: 50%;\n",
              "    cursor: pointer;\n",
              "    display: none;\n",
              "    fill: var(--fill-color);\n",
              "    height: 32px;\n",
              "    padding: 0;\n",
              "    width: 32px;\n",
              "  }\n",
              "\n",
              "  .colab-df-quickchart:hover {\n",
              "    background-color: var(--hover-bg-color);\n",
              "    box-shadow: 0 1px 2px rgba(60, 64, 67, 0.3), 0 1px 3px 1px rgba(60, 64, 67, 0.15);\n",
              "    fill: var(--button-hover-fill-color);\n",
              "  }\n",
              "\n",
              "  .colab-df-quickchart-complete:disabled,\n",
              "  .colab-df-quickchart-complete:disabled:hover {\n",
              "    background-color: var(--disabled-bg-color);\n",
              "    fill: var(--disabled-fill-color);\n",
              "    box-shadow: none;\n",
              "  }\n",
              "\n",
              "  .colab-df-spinner {\n",
              "    border: 2px solid var(--fill-color);\n",
              "    border-color: transparent;\n",
              "    border-bottom-color: var(--fill-color);\n",
              "    animation:\n",
              "      spin 1s steps(1) infinite;\n",
              "  }\n",
              "\n",
              "  @keyframes spin {\n",
              "    0% {\n",
              "      border-color: transparent;\n",
              "      border-bottom-color: var(--fill-color);\n",
              "      border-left-color: var(--fill-color);\n",
              "    }\n",
              "    20% {\n",
              "      border-color: transparent;\n",
              "      border-left-color: var(--fill-color);\n",
              "      border-top-color: var(--fill-color);\n",
              "    }\n",
              "    30% {\n",
              "      border-color: transparent;\n",
              "      border-left-color: var(--fill-color);\n",
              "      border-top-color: var(--fill-color);\n",
              "      border-right-color: var(--fill-color);\n",
              "    }\n",
              "    40% {\n",
              "      border-color: transparent;\n",
              "      border-right-color: var(--fill-color);\n",
              "      border-top-color: var(--fill-color);\n",
              "    }\n",
              "    60% {\n",
              "      border-color: transparent;\n",
              "      border-right-color: var(--fill-color);\n",
              "    }\n",
              "    80% {\n",
              "      border-color: transparent;\n",
              "      border-right-color: var(--fill-color);\n",
              "      border-bottom-color: var(--fill-color);\n",
              "    }\n",
              "    90% {\n",
              "      border-color: transparent;\n",
              "      border-bottom-color: var(--fill-color);\n",
              "    }\n",
              "  }\n",
              "</style>\n",
              "\n",
              "      <script>\n",
              "        async function quickchart(key) {\n",
              "          const quickchartButtonEl =\n",
              "            document.querySelector('#' + key + ' button');\n",
              "          quickchartButtonEl.disabled = true;  // To prevent multiple clicks.\n",
              "          quickchartButtonEl.classList.add('colab-df-spinner');\n",
              "          try {\n",
              "            const charts = await google.colab.kernel.invokeFunction(\n",
              "                'suggestCharts', [key], {});\n",
              "          } catch (error) {\n",
              "            console.error('Error during call to suggestCharts:', error);\n",
              "          }\n",
              "          quickchartButtonEl.classList.remove('colab-df-spinner');\n",
              "          quickchartButtonEl.classList.add('colab-df-quickchart-complete');\n",
              "        }\n",
              "        (() => {\n",
              "          let quickchartButtonEl =\n",
              "            document.querySelector('#df-5f1d2cbc-c45c-4711-83cd-ef78ddc71c46 button');\n",
              "          quickchartButtonEl.style.display =\n",
              "            google.colab.kernel.accessAllowed ? 'block' : 'none';\n",
              "        })();\n",
              "      </script>\n",
              "    </div>\n",
              "\n",
              "  <div id=\"id_6badaa8b-8b36-432c-91b1-d4b2a3d751dc\">\n",
              "    <style>\n",
              "      .colab-df-generate {\n",
              "        background-color: #E8F0FE;\n",
              "        border: none;\n",
              "        border-radius: 50%;\n",
              "        cursor: pointer;\n",
              "        display: none;\n",
              "        fill: #1967D2;\n",
              "        height: 32px;\n",
              "        padding: 0 0 0 0;\n",
              "        width: 32px;\n",
              "      }\n",
              "\n",
              "      .colab-df-generate:hover {\n",
              "        background-color: #E2EBFA;\n",
              "        box-shadow: 0px 1px 2px rgba(60, 64, 67, 0.3), 0px 1px 3px 1px rgba(60, 64, 67, 0.15);\n",
              "        fill: #174EA6;\n",
              "      }\n",
              "\n",
              "      [theme=dark] .colab-df-generate {\n",
              "        background-color: #3B4455;\n",
              "        fill: #D2E3FC;\n",
              "      }\n",
              "\n",
              "      [theme=dark] .colab-df-generate:hover {\n",
              "        background-color: #434B5C;\n",
              "        box-shadow: 0px 1px 3px 1px rgba(0, 0, 0, 0.15);\n",
              "        filter: drop-shadow(0px 1px 2px rgba(0, 0, 0, 0.3));\n",
              "        fill: #FFFFFF;\n",
              "      }\n",
              "    </style>\n",
              "    <button class=\"colab-df-generate\" onclick=\"generateWithVariable('df2')\"\n",
              "            title=\"Generate code using this dataframe.\"\n",
              "            style=\"display:none;\">\n",
              "\n",
              "  <svg xmlns=\"http://www.w3.org/2000/svg\" height=\"24px\"viewBox=\"0 0 24 24\"\n",
              "       width=\"24px\">\n",
              "    <path d=\"M7,19H8.4L18.45,9,17,7.55,7,17.6ZM5,21V16.75L18.45,3.32a2,2,0,0,1,2.83,0l1.4,1.43a1.91,1.91,0,0,1,.58,1.4,1.91,1.91,0,0,1-.58,1.4L9.25,21ZM18.45,9,17,7.55Zm-12,3A5.31,5.31,0,0,0,4.9,8.1,5.31,5.31,0,0,0,1,6.5,5.31,5.31,0,0,0,4.9,4.9,5.31,5.31,0,0,0,6.5,1,5.31,5.31,0,0,0,8.1,4.9,5.31,5.31,0,0,0,12,6.5,5.46,5.46,0,0,0,6.5,12Z\"/>\n",
              "  </svg>\n",
              "    </button>\n",
              "    <script>\n",
              "      (() => {\n",
              "      const buttonEl =\n",
              "        document.querySelector('#id_6badaa8b-8b36-432c-91b1-d4b2a3d751dc button.colab-df-generate');\n",
              "      buttonEl.style.display =\n",
              "        google.colab.kernel.accessAllowed ? 'block' : 'none';\n",
              "\n",
              "      buttonEl.onclick = () => {\n",
              "        google.colab.notebook.generateWithVariable('df2');\n",
              "      }\n",
              "      })();\n",
              "    </script>\n",
              "  </div>\n",
              "\n",
              "    </div>\n",
              "  </div>\n"
            ],
            "text/plain": [
              "   a  b\n",
              "0  1  4\n",
              "1  2  5\n",
              "2  3  6"
            ]
          },
          "execution_count": 27,
          "metadata": {},
          "output_type": "execute_result"
        }
      ],
      "source": [
        "df.to_csv(\"test.csv\", index=False)\n",
        "df2 = pd.read_csv(\"test.csv\")\n",
        "df2"
      ]
    },
    {
      "cell_type": "code",
      "execution_count": 28,
      "metadata": {
        "colab": {
          "base_uri": "https://localhost:8080/"
        },
        "id": "GRInec_YbYnC",
        "outputId": "dabe7835-62e9-4e1a-9f8f-d9bd67f4ed15"
      },
      "outputs": [
        {
          "name": "stdout",
          "output_type": "stream",
          "text": [
            "[1 2 3]\n",
            "shape: (3,)\n",
            "dtype: int64\n"
          ]
        }
      ],
      "source": [
        "# numpy\n",
        "import numpy as np\n",
        "arr = np.array([1, 2, 3])\n",
        "print(arr)\n",
        "print(f\"shape: {arr.shape}\")\n",
        "print(f\"dtype: {arr.dtype}\")"
      ]
    },
    {
      "cell_type": "code",
      "execution_count": 29,
      "metadata": {
        "colab": {
          "base_uri": "https://localhost:8080/"
        },
        "id": "VDKsv4SZb-PC",
        "outputId": "be674869-4374-4899-a3cb-6f91e97e5269"
      },
      "outputs": [
        {
          "data": {
            "text/plain": [
              "array([3, 6, 9])"
            ]
          },
          "execution_count": 29,
          "metadata": {},
          "output_type": "execute_result"
        }
      ],
      "source": [
        "arr * 3"
      ]
    },
    {
      "cell_type": "markdown",
      "metadata": {
        "id": "nUIP13s8PWPQ"
      },
      "source": [
        "## Pytorch: tensor"
      ]
    },
    {
      "cell_type": "code",
      "execution_count": 30,
      "metadata": {
        "colab": {
          "base_uri": "https://localhost:8080/"
        },
        "id": "5T5KPpIHcVAV",
        "outputId": "c1a0d0ee-b746-4a36-e2b6-8a0833908426"
      },
      "outputs": [
        {
          "name": "stdout",
          "output_type": "stream",
          "text": [
            "tensor([1, 2, 3])\n",
            "shape: torch.Size([3])\n",
            "dtype: torch.int64\n"
          ]
        }
      ],
      "source": [
        "# pytorch\n",
        "import torch\n",
        "arr = torch.tensor([1, 2, 3])\n",
        "print(arr)\n",
        "print(f\"shape: {arr.shape}\")\n",
        "print(f\"dtype: {arr.dtype}\")"
      ]
    },
    {
      "cell_type": "code",
      "execution_count": 31,
      "metadata": {
        "colab": {
          "base_uri": "https://localhost:8080/"
        },
        "id": "CA6NyUBwedYR",
        "outputId": "6133f85a-0df1-4f58-f284-76d71c76ec25"
      },
      "outputs": [
        {
          "name": "stdout",
          "output_type": "stream",
          "text": [
            "device: cpu\n",
            "device: cpu\n"
          ]
        }
      ],
      "source": [
        "# unlike numpy arrays, torch tensors can be placed on gpu/cpu devices\n",
        "print(f\"device: {arr.device}\")\n",
        "# arr = arr.to(\"cuda\")\n",
        "arr = arr.to(\"cpu\")\n",
        "arr = arr.cpu()\n",
        "\n",
        "print(f\"device: {arr.device}\")"
      ]
    },
    {
      "cell_type": "code",
      "execution_count": 32,
      "metadata": {
        "colab": {
          "base_uri": "https://localhost:8080/"
        },
        "id": "Iea8v0EAfMNU",
        "outputId": "3eeaa086-bcf8-4759-a7f7-a04365032447"
      },
      "outputs": [
        {
          "name": "stdout",
          "output_type": "stream",
          "text": [
            "torch.arange(3)=tensor([0, 1, 2])\n",
            "torch.ones(3)=tensor([1., 1., 1.])\n",
            "torch.zeros_like(arr)=tensor([0, 0, 0])\n"
          ]
        }
      ],
      "source": [
        "# handy constructors\n",
        "print(f\"{torch.arange(3)=}\")\n",
        "print(f\"{torch.ones(3)=}\")\n",
        "print(f\"{torch.zeros_like(arr)=}\")"
      ]
    },
    {
      "cell_type": "markdown",
      "metadata": {
        "id": "XHnAKhpvmPne"
      },
      "source": [
        "Exercise: create a 2-by-3 tensor, filled with 1.0, and placed on cpu"
      ]
    },
    {
      "cell_type": "code",
      "execution_count": 33,
      "metadata": {
        "colab": {
          "base_uri": "https://localhost:8080/"
        },
        "id": "oBKY6X5ll9VZ",
        "outputId": "41338db3-b30a-487a-dc16-2df3f8be19ef"
      },
      "outputs": [
        {
          "data": {
            "text/plain": [
              "tensor([[1., 1., 1.],\n",
              "        [1., 1., 1.]])"
            ]
          },
          "execution_count": 33,
          "metadata": {},
          "output_type": "execute_result"
        }
      ],
      "source": [
        "torch.ones([2,3]).to(\"cpu\")"
      ]
    },
    {
      "cell_type": "markdown",
      "metadata": {
        "id": "0-YFNH6wFgAo"
      },
      "source": [
        "### index"
      ]
    },
    {
      "cell_type": "code",
      "execution_count": 34,
      "metadata": {
        "colab": {
          "base_uri": "https://localhost:8080/"
        },
        "id": "_FDvn48aFfNU",
        "outputId": "3da44e43-b2d0-4ff8-aa58-190339237a32"
      },
      "outputs": [
        {
          "name": "stdout",
          "output_type": "stream",
          "text": [
            "arr=tensor([[0, 1, 2, 3, 4],\n",
            "        [5, 6, 7, 8, 9]])\n"
          ]
        }
      ],
      "source": [
        "arr = torch.tensor([\n",
        "    [0, 1, 2, 3, 4],\n",
        "    [5, 6, 7, 8, 9]])\n",
        "print(f\"{arr=}\")"
      ]
    },
    {
      "cell_type": "code",
      "execution_count": 35,
      "metadata": {
        "colab": {
          "base_uri": "https://localhost:8080/"
        },
        "id": "Ojydd1pvF-Wa",
        "outputId": "2c82034f-7928-4b54-f054-8c110a3c2f9a"
      },
      "outputs": [
        {
          "name": "stdout",
          "output_type": "stream",
          "text": [
            "arr[1]=tensor([5, 6, 7, 8, 9])\n",
            "arr[1][3]=tensor(8)\n",
            "arr[1, 3]=tensor(8)\n",
            "arr[(1, 3)]=tensor(8)\n",
            "8\n"
          ]
        }
      ],
      "source": [
        "# select a single element\n",
        "print(f\"{arr[1]=}\")\n",
        "print(f\"{arr[1][3]=}\")\n",
        "print(f\"{arr[1, 3]=}\")\n",
        "print(f\"{arr[(1, 3)]=}\")\n",
        "print(f\"{arr[1, 3].item()}\") # loss.item()"
      ]
    },
    {
      "cell_type": "code",
      "execution_count": 36,
      "metadata": {
        "colab": {
          "base_uri": "https://localhost:8080/"
        },
        "id": "gKcw5h6XGCny",
        "outputId": "cc922a02-f004-456f-bb9e-53350e7cbc81"
      },
      "outputs": [
        {
          "name": "stdout",
          "output_type": "stream",
          "text": [
            "arr[1]=tensor([5, 6, 7, 8, 9])\n",
            "arr[1:]=tensor([[5, 6, 7, 8, 9]])\n",
            "arr[1:, 3:]=tensor([[8, 9]])\n"
          ]
        }
      ],
      "source": [
        "# select a group of element\n",
        "print(f\"{arr[1]=}\")\n",
        "print(f\"{arr[1:]=}\")\n",
        "print(f\"{arr[1:, 3:]=}\")"
      ]
    },
    {
      "cell_type": "markdown",
      "metadata": {
        "id": "fB3PaRPZFuAG"
      },
      "source": [
        "Exercise: arr[???] yields tensor([2, 3])"
      ]
    },
    {
      "cell_type": "code",
      "execution_count": 37,
      "metadata": {
        "colab": {
          "base_uri": "https://localhost:8080/"
        },
        "id": "ADoTbD9FGfhF",
        "outputId": "0b3a8a45-b130-4402-83de-373d25ce7f02"
      },
      "outputs": [
        {
          "data": {
            "text/plain": [
              "tensor([2, 3])"
            ]
          },
          "execution_count": 37,
          "metadata": {},
          "output_type": "execute_result"
        }
      ],
      "source": [
        "arr[0, 2:4]"
      ]
    },
    {
      "cell_type": "markdown",
      "metadata": {
        "id": "vPQ7n6uJlEMp"
      },
      "source": [
        "### shape"
      ]
    },
    {
      "cell_type": "code",
      "execution_count": 38,
      "metadata": {
        "colab": {
          "base_uri": "https://localhost:8080/"
        },
        "id": "uzgLcr_-lHqB",
        "outputId": "f2a86c6b-5fb7-4ae4-b744-e86a8e5d3d9e"
      },
      "outputs": [
        {
          "name": "stdout",
          "output_type": "stream",
          "text": [
            "arr.shape=torch.Size([10])\n",
            "arr.ndim=1\n",
            "arr=tensor([0, 1, 2, 3, 4, 5, 6, 7, 8, 9])\n"
          ]
        }
      ],
      "source": [
        "arr = torch.arange(10)\n",
        "print(f\"{arr.shape=}\")\n",
        "print(f\"{arr.ndim=}\")\n",
        "print(f\"{arr=}\")"
      ]
    },
    {
      "cell_type": "code",
      "execution_count": 39,
      "metadata": {
        "colab": {
          "base_uri": "https://localhost:8080/"
        },
        "id": "Zu-ooY3QCqG8",
        "outputId": "45d6a32e-07ea-4429-d877-1a51a946aeec"
      },
      "outputs": [
        {
          "name": "stdout",
          "output_type": "stream",
          "text": [
            "before arr.shape=torch.Size([10])\n",
            "after arr.shape=torch.Size([2, 5])\n",
            "arr.ndim=2\n",
            "arr=tensor([[0, 1, 2, 3, 4],\n",
            "        [5, 6, 7, 8, 9]])\n"
          ]
        }
      ],
      "source": [
        "# reshape\n",
        "arr = torch.arange(10)\n",
        "print(f\"before {arr.shape=}\")\n",
        "arr = arr.reshape(2, 5)\n",
        "print(f\"after {arr.shape=}\")\n",
        "print(f\"{arr.ndim=}\")\n",
        "print(f\"{arr=}\")"
      ]
    },
    {
      "cell_type": "code",
      "execution_count": 40,
      "metadata": {
        "colab": {
          "base_uri": "https://localhost:8080/"
        },
        "id": "CgUcHCpzCzLc",
        "outputId": "e1fa45d2-8004-49ff-abcc-eaab2c540831"
      },
      "outputs": [
        {
          "name": "stdout",
          "output_type": "stream",
          "text": [
            "before arr.shape=torch.Size([10])\n",
            "after arr.shape=torch.Size([2, 5])\n",
            "arr=tensor([[0, 1, 2, 3, 4],\n",
            "        [5, 6, 7, 8, 9]])\n"
          ]
        }
      ],
      "source": [
        "# view\n",
        "arr = torch.arange(10)\n",
        "print(f\"before {arr.shape=}\")\n",
        "arr = arr.view(2, 5)\n",
        "# arr = arr.view(-1, 5)\n",
        "print(f\"after {arr.shape=}\")\n",
        "print(f\"{arr=}\")"
      ]
    },
    {
      "cell_type": "code",
      "execution_count": 41,
      "metadata": {
        "colab": {
          "base_uri": "https://localhost:8080/"
        },
        "id": "cDBtDZ9uC4GK",
        "outputId": "77dff2e4-2798-4b13-b42e-b90ce9130273"
      },
      "outputs": [
        {
          "name": "stdout",
          "output_type": "stream",
          "text": [
            "before arr.shape=torch.Size([2, 5])\n",
            "after arr.shape=torch.Size([10])\n",
            "arr=tensor([0, 1, 2, 3, 4, 5, 6, 7, 8, 9])\n"
          ]
        }
      ],
      "source": [
        "# flatten\n",
        "arr = torch.arange(10).view(-1, 5)\n",
        "print(f\"before {arr.shape=}\")\n",
        "arr = arr.flatten()\n",
        "print(f\"after {arr.shape=}\")\n",
        "print(f\"{arr=}\")"
      ]
    },
    {
      "cell_type": "code",
      "execution_count": 42,
      "metadata": {
        "colab": {
          "base_uri": "https://localhost:8080/"
        },
        "id": "hwrttPkADdJ2",
        "outputId": "4bfc7d11-3058-41cf-d3fd-7cfd8b59905f"
      },
      "outputs": [
        {
          "name": "stdout",
          "output_type": "stream",
          "text": [
            "before arr.shape=torch.Size([2, 5])\n",
            "after arr.shape=torch.Size([1, 2, 5])\n",
            "arr=tensor([[[0, 1, 2, 3, 4],\n",
            "         [5, 6, 7, 8, 9]]])\n"
          ]
        }
      ],
      "source": [
        "# unsqueeze\n",
        "arr = torch.arange(10).view(-1, 5)\n",
        "print(f\"before {arr.shape=}\")\n",
        "arr = arr.unsqueeze(0)\n",
        "print(f\"after {arr.shape=}\")\n",
        "print(f\"{arr=}\")"
      ]
    },
    {
      "cell_type": "code",
      "execution_count": 43,
      "metadata": {
        "colab": {
          "base_uri": "https://localhost:8080/"
        },
        "id": "BB1xL_UfD30W",
        "outputId": "f7c4b378-e1ce-4dd0-836f-814b06525c44"
      },
      "outputs": [
        {
          "name": "stdout",
          "output_type": "stream",
          "text": [
            "before arr.shape=torch.Size([1, 1, 2, 5])\n",
            "after arr.shape=torch.Size([2, 5])\n",
            "arr=tensor([[0, 1, 2, 3, 4],\n",
            "        [5, 6, 7, 8, 9]])\n"
          ]
        }
      ],
      "source": [
        "# squeeze\n",
        "arr = torch.arange(10).view(-1, 5)\n",
        "arr = arr.view(1, 1, 2, 5)\n",
        "print(f\"before {arr.shape=}\")\n",
        "arr = arr.squeeze()\n",
        "print(f\"after {arr.shape=}\")\n",
        "print(f\"{arr=}\")"
      ]
    },
    {
      "cell_type": "code",
      "execution_count": 44,
      "metadata": {
        "colab": {
          "base_uri": "https://localhost:8080/"
        },
        "id": "7BWyOQnQGyKr",
        "outputId": "56895b19-5fb1-4577-8897-ed26d207a3fb"
      },
      "outputs": [
        {
          "name": "stdout",
          "output_type": "stream",
          "text": [
            "before arr.shape=torch.Size([2, 5])\n",
            "after arr.shape=torch.Size([1, 2, 5])\n",
            "arr=tensor([[[0, 1, 2, 3, 4],\n",
            "         [5, 6, 7, 8, 9]]])\n"
          ]
        }
      ],
      "source": [
        "# unsqueeze by index with None\n",
        "arr = torch.arange(10).view(-1, 5)\n",
        "print(f\"before {arr.shape=}\")\n",
        "arr = arr[torch.newaxis, :, :]\n",
        "print(f\"after {arr.shape=}\")\n",
        "print(f\"{arr=}\")"
      ]
    },
    {
      "cell_type": "code",
      "execution_count": 45,
      "metadata": {
        "colab": {
          "base_uri": "https://localhost:8080/"
        },
        "id": "cU3mMDg-GovG",
        "outputId": "45e436f6-ee46-43a4-b78b-71a397440b84"
      },
      "outputs": [
        {
          "name": "stdout",
          "output_type": "stream",
          "text": [
            "before arr.shape=torch.Size([2, 5])\n",
            "after arr.shape=torch.Size([1, 2, 5])\n",
            "arr=tensor([[[0, 1, 2, 3, 4],\n",
            "         [5, 6, 7, 8, 9]]])\n"
          ]
        }
      ],
      "source": [
        "# unsqueeze by index with None (a shortcut)\n",
        "arr = torch.arange(10).view(-1, 5)\n",
        "print(f\"before {arr.shape=}\")\n",
        "arr = arr[None, :, :]\n",
        "print(f\"after {arr.shape=}\")\n",
        "print(f\"{arr=}\")"
      ]
    },
    {
      "cell_type": "code",
      "execution_count": 46,
      "metadata": {
        "colab": {
          "base_uri": "https://localhost:8080/"
        },
        "id": "ph-SlDK6H9ZN",
        "outputId": "2e459aa2-efd2-4bb2-d950-fd4d4263e4fe"
      },
      "outputs": [
        {
          "name": "stdout",
          "output_type": "stream",
          "text": [
            "before arr.shape=torch.Size([2, 5])\n",
            "after arr.shape=torch.Size([5, 2])\n",
            "arr=tensor([[0, 5],\n",
            "        [1, 6],\n",
            "        [2, 7],\n",
            "        [3, 8],\n",
            "        [4, 9]])\n"
          ]
        }
      ],
      "source": [
        "# transpose. # necessary for attention\n",
        "arr = torch.arange(10).view(-1, 5)\n",
        "print(f\"before {arr.shape=}\")\n",
        "arr = arr.transpose(0, 1)\n",
        "print(f\"after {arr.shape=}\")\n",
        "print(f\"{arr=}\")"
      ]
    },
    {
      "cell_type": "markdown",
      "metadata": {
        "id": "pvBIRD8bIbtS"
      },
      "source": [
        "Exercise: Create `tensor([[ 0,  4,  8],\n",
        "        [ 1,  5,  9],\n",
        "        [ 2,  6, 10],\n",
        "        [ 3,  7, 11]])` from `torch.arange(12)`"
      ]
    },
    {
      "cell_type": "code",
      "execution_count": 47,
      "metadata": {
        "colab": {
          "base_uri": "https://localhost:8080/"
        },
        "id": "mFzNvmd0IScA",
        "outputId": "893839a8-426b-46eb-8600-4129ac31c63b"
      },
      "outputs": [
        {
          "name": "stdout",
          "output_type": "stream",
          "text": [
            "torch.Size([3, 4])\n",
            "torch.Size([4, 3])\n"
          ]
        }
      ],
      "source": [
        "a = torch.arange(12).reshape(3,4)\n",
        "# a.transpose_(0,1)\n",
        "print(a.shape)\n",
        "a.transpose_(0,1)\n",
        "print(a.shape)"
      ]
    },
    {
      "cell_type": "markdown",
      "metadata": {
        "id": "iRVtYlCLFT-U"
      },
      "source": [
        "### broadcast"
      ]
    },
    {
      "cell_type": "code",
      "execution_count": 48,
      "metadata": {
        "id": "uUzLLkTOHO30"
      },
      "outputs": [],
      "source": [
        "# squeeze and unsqueeze are handy when it comes to broadcasting"
      ]
    },
    {
      "cell_type": "code",
      "execution_count": 49,
      "metadata": {
        "colab": {
          "base_uri": "https://localhost:8080/"
        },
        "id": "PBRapmOuHz7B",
        "outputId": "68abf6a3-c347-40d6-d4e6-3370a0ddb45d"
      },
      "outputs": [
        {
          "name": "stdout",
          "output_type": "stream",
          "text": [
            "arr1=tensor([0., 1., 2.])\n",
            "arr2=tensor([0., 1., 2., 3.])\n"
          ]
        }
      ],
      "source": [
        "arr1 = torch.arange(3, dtype=torch.float)\n",
        "arr2 = torch.arange(4, dtype=torch.float)\n",
        "print(f\"{arr1=}\")\n",
        "print(f\"{arr2=}\")"
      ]
    },
    {
      "cell_type": "code",
      "execution_count": 50,
      "metadata": {
        "colab": {
          "base_uri": "https://localhost:8080/"
        },
        "id": "FHlI5jnTIzp2",
        "outputId": "7cb68590-b0ac-4296-cdb9-6333c9cf8f52"
      },
      "outputs": [
        {
          "name": "stdout",
          "output_type": "stream",
          "text": [
            "out.shape=torch.Size([3, 4])\n",
            "out=tensor([[0., 0., 0., 0.],\n",
            "        [0., 1., 2., 3.],\n",
            "        [0., 2., 4., 6.]])\n"
          ]
        }
      ],
      "source": [
        "# compute the outter product of these two vectors\n",
        "out = torch.zeros(3, 4)\n",
        "for i in range(3):\n",
        "    for j in range(4):\n",
        "        out[i, j] = arr1[i] * arr2[j]\n",
        "print(f\"{out.shape=}\")\n",
        "print(f\"{out=}\")"
      ]
    },
    {
      "cell_type": "code",
      "execution_count": 51,
      "metadata": {
        "colab": {
          "base_uri": "https://localhost:8080/"
        },
        "id": "ivFpzERhI8Xp",
        "outputId": "bdae623d-9665-4e73-a721-d74f2456ab02"
      },
      "outputs": [
        {
          "name": "stdout",
          "output_type": "stream",
          "text": [
            "out.shape=torch.Size([3, 4])\n",
            "out=tensor([[0., 0., 0., 0.],\n",
            "        [0., 1., 2., 3.],\n",
            "        [0., 2., 4., 6.]])\n"
          ]
        }
      ],
      "source": [
        "# compute the outer product of these two vectors\n",
        "out = arr1[:, None] * arr2[None, :]\n",
        "print(f\"{out.shape=}\")\n",
        "print(f\"{out=}\")"
      ]
    },
    {
      "cell_type": "code",
      "execution_count": 52,
      "metadata": {
        "colab": {
          "base_uri": "https://localhost:8080/"
        },
        "id": "hr5fGimpJWHS",
        "outputId": "650772bd-ed73-414f-c3d9-3bd72d89e5fb"
      },
      "outputs": [
        {
          "name": "stdout",
          "output_type": "stream",
          "text": [
            "out.shape=torch.Size([3, 4])\n",
            "out=tensor([[0., 0., 0., 0.],\n",
            "        [0., 1., 2., 3.],\n",
            "        [0., 2., 4., 6.]])\n"
          ]
        }
      ],
      "source": [
        "# compute the outer product of these two vectors\n",
        "out = torch.outer(arr1, arr2)\n",
        "print(f\"{out.shape=}\")\n",
        "print(f\"{out=}\")"
      ]
    },
    {
      "cell_type": "code",
      "execution_count": 53,
      "metadata": {
        "colab": {
          "base_uri": "https://localhost:8080/"
        },
        "id": "7ELAMBUPJjA7",
        "outputId": "d2a9ea5d-69d0-4ea7-fd32-2e550d6487b7"
      },
      "outputs": [
        {
          "name": "stdout",
          "output_type": "stream",
          "text": [
            "out.shape=torch.Size([3, 4])\n",
            "out=tensor([[0., 0., 0., 0.],\n",
            "        [0., 1., 2., 3.],\n",
            "        [0., 2., 4., 6.]])\n"
          ]
        }
      ],
      "source": [
        "# compute the outer product of these two vectors\n",
        "out = torch.matmul(arr1.view(3, 1), arr2.view(1, 4))\n",
        "print(f\"{out.shape=}\")\n",
        "print(f\"{out=}\")"
      ]
    },
    {
      "cell_type": "code",
      "execution_count": 54,
      "metadata": {
        "colab": {
          "base_uri": "https://localhost:8080/"
        },
        "id": "R4D8kb9uJnlZ",
        "outputId": "a1638f75-c80c-4b8f-ea03-0ebea5a71893"
      },
      "outputs": [
        {
          "name": "stdout",
          "output_type": "stream",
          "text": [
            "out.shape=torch.Size([3, 4])\n",
            "out=tensor([[0., 0., 0., 0.],\n",
            "        [0., 1., 2., 3.],\n",
            "        [0., 2., 4., 6.]])\n"
          ]
        }
      ],
      "source": [
        "# compute the outer product of these two vectors\n",
        "out = arr1[:, None] @ arr2[None, :]\n",
        "print(f\"{out.shape=}\")\n",
        "print(f\"{out=}\")"
      ]
    },
    {
      "cell_type": "markdown",
      "metadata": {
        "id": "-tns8oNpKeMd"
      },
      "source": [
        "Exercise: Inner product of two 3D vectors $b_{3}$ and $c_{3}$. All entries are ones. Multiple ways?"
      ]
    },
    {
      "cell_type": "code",
      "execution_count": 55,
      "metadata": {
        "colab": {
          "base_uri": "https://localhost:8080/"
        },
        "id": "ok3_Dub3KqTu",
        "outputId": "51779379-b1f1-4b1c-90aa-02c8b6e46165"
      },
      "outputs": [
        {
          "data": {
            "text/plain": [
              "tensor(3.)"
            ]
          },
          "execution_count": 55,
          "metadata": {},
          "output_type": "execute_result"
        }
      ],
      "source": [
        "b = torch.ones(3)\n",
        "c = torch.ones(3)\n",
        "\n",
        "torch.dot(b,c)"
      ]
    },
    {
      "cell_type": "code",
      "execution_count": 56,
      "metadata": {
        "colab": {
          "base_uri": "https://localhost:8080/"
        },
        "id": "im8ClCnXjmIP",
        "outputId": "d66f891c-bc73-4829-9cc0-6e5d85f34923"
      },
      "outputs": [
        {
          "data": {
            "text/plain": [
              "tensor(3.)"
            ]
          },
          "execution_count": 56,
          "metadata": {},
          "output_type": "execute_result"
        }
      ],
      "source": [
        "torch.inner(b,c)"
      ]
    },
    {
      "cell_type": "code",
      "execution_count": 57,
      "metadata": {
        "colab": {
          "base_uri": "https://localhost:8080/"
        },
        "id": "o4mK67kNjqED",
        "outputId": "199edc16-2968-4359-d562-c05fd0ea59b0"
      },
      "outputs": [
        {
          "data": {
            "text/plain": [
              "tensor(3.)"
            ]
          },
          "execution_count": 57,
          "metadata": {},
          "output_type": "execute_result"
        }
      ],
      "source": [
        "torch.matmul(b,c)"
      ]
    },
    {
      "cell_type": "code",
      "execution_count": 58,
      "metadata": {
        "colab": {
          "base_uri": "https://localhost:8080/"
        },
        "id": "4trgtD-yjuxK",
        "outputId": "37460ba7-ce7b-416b-d840-36ab47178fe3"
      },
      "outputs": [
        {
          "data": {
            "text/plain": [
              "tensor(3.)"
            ]
          },
          "execution_count": 58,
          "metadata": {},
          "output_type": "execute_result"
        }
      ],
      "source": [
        "(b * c).sum()"
      ]
    },
    {
      "cell_type": "markdown",
      "metadata": {
        "id": "VACmE2N3KALj"
      },
      "source": [
        "Exercise: Implement matrix vector product $A_{5 \\times 6} b_{6}$. All entries are ones."
      ]
    },
    {
      "cell_type": "code",
      "execution_count": 59,
      "metadata": {
        "id": "9hVOMk6fKYKr"
      },
      "outputs": [],
      "source": [
        "pass"
      ]
    },
    {
      "cell_type": "markdown",
      "metadata": {
        "id": "Qe2kzIgAPafB"
      },
      "source": [
        "## Pytorch: layer and nn.Module"
      ]
    },
    {
      "cell_type": "markdown",
      "metadata": {
        "id": "MerjbK94NKK_"
      },
      "source": [
        "Exercise: implement a linear layer in pytorch"
      ]
    },
    {
      "cell_type": "code",
      "execution_count": 60,
      "metadata": {
        "colab": {
          "base_uri": "https://localhost:8080/"
        },
        "id": "AGDK9zsXljST",
        "outputId": "7215cc6a-120a-4b82-90dc-89899276ff6f"
      },
      "outputs": [
        {
          "name": "stdout",
          "output_type": "stream",
          "text": [
            "linear.w.shape=torch.Size([10, 5])\n",
            "linear.b.shape=torch.Size([5])\n",
            "para_names=['w', 'b']\n"
          ]
        }
      ],
      "source": [
        "import torch.nn as nn\n",
        "\n",
        "class MyLinear(nn.Module):\n",
        "    def __init__(self, in_dim, out_dim):\n",
        "        super().__init__()\n",
        "        self.w = nn.Parameter(torch.randn(in_dim, out_dim))\n",
        "        self.b = nn.Parameter(torch.zeros(out_dim))\n",
        "\n",
        "    def forward(self, x):\n",
        "        return x @ self.w + self.b\n",
        "\n",
        "in_dim = 10\n",
        "out_dim = 5\n",
        "linear = MyLinear(in_dim, out_dim)\n",
        "print(f\"{linear.w.shape=}\")\n",
        "print(f\"{linear.b.shape=}\")\n",
        "para_names = [n for n, _ in linear.named_parameters()]\n",
        "print(f\"{para_names=}\")\n",
        "batch_size = 33\n",
        "x = torch.ones(batch_size, in_dim)\n",
        "y = linear(x)\n",
        "assert y.shape == (batch_size, out_dim)"
      ]
    },
    {
      "cell_type": "code",
      "execution_count": 61,
      "metadata": {
        "colab": {
          "base_uri": "https://localhost:8080/"
        },
        "id": "A98EPcHykaGV",
        "outputId": "48190522-1665-462d-ab24-e5de44746657"
      },
      "outputs": [
        {
          "data": {
            "text/plain": [
              "[('w', torch.Size([10, 5])), ('b', torch.Size([5]))]"
            ]
          },
          "execution_count": 61,
          "metadata": {},
          "output_type": "execute_result"
        }
      ],
      "source": [
        "[(n, p.shape) for n, p in linear.named_parameters()]"
      ]
    },
    {
      "cell_type": "code",
      "execution_count": 62,
      "metadata": {
        "colab": {
          "base_uri": "https://localhost:8080/"
        },
        "id": "bBP2vzPekhPs",
        "outputId": "0ee060d1-634b-4d0a-fba5-bd5a39f94278"
      },
      "outputs": [
        {
          "data": {
            "text/plain": [
              "55"
            ]
          },
          "execution_count": 62,
          "metadata": {},
          "output_type": "execute_result"
        }
      ],
      "source": [
        "def prod(shape):\n",
        "  a = 1\n",
        "  for s in shape:\n",
        "    a *= s\n",
        "  return a\n",
        "\n",
        "sum([prod(p.shape) for n, p in linear.named_parameters()])"
      ]
    },
    {
      "cell_type": "code",
      "execution_count": 63,
      "metadata": {
        "id": "VPpRjHw0jVzN"
      },
      "outputs": [],
      "source": [
        "# nn.Module are composable\n",
        "class MyMultiLayer(nn.Module):\n",
        "\n",
        "    def __init__(self, in_dim, out_dim):\n",
        "        super().__init__()\n",
        "        self.linear1 = MyLinear(in_dim, out_dim)\n",
        "        self.linear2 = MyLinear(out_dim, out_dim)\n",
        "\n",
        "    def forward(self, x):\n",
        "        x = self.linear1(x)\n",
        "        x = self.linear2(x) + x\n",
        "        return x"
      ]
    },
    {
      "cell_type": "markdown",
      "metadata": {
        "id": "9dYgO5v2PlQR"
      },
      "source": [
        "## Pytorch: functional, loss"
      ]
    },
    {
      "cell_type": "code",
      "execution_count": 64,
      "metadata": {
        "id": "EXmFISA-N0Lv"
      },
      "outputs": [],
      "source": [
        "import torch.nn.functional as F"
      ]
    },
    {
      "cell_type": "code",
      "execution_count": 65,
      "metadata": {
        "colab": {
          "base_uri": "https://localhost:8080/"
        },
        "id": "nDI07h00T5m2",
        "outputId": "b1c26ba0-c3c7-4f2b-f0b3-b1a60a45287b"
      },
      "outputs": [
        {
          "data": {
            "text/plain": [
              "tensor([[1.3752, 2.4895, 0.3424, 0.0000, 0.0000],\n",
              "        [1.0021, 0.4612, 1.0354, 0.0000, 0.0000],\n",
              "        [0.0000, 0.0000, 0.8868, 0.0000, 0.0000]])"
            ]
          },
          "execution_count": 65,
          "metadata": {},
          "output_type": "execute_result"
        }
      ],
      "source": [
        "# all sorts of common functions in nn.functional\n",
        "F.cross_entropy(torch.randn(3, 5), torch.randint(0, 5, (3,)))\n",
        "F.mse_loss(torch.randn(3, 5), torch.randn(3, 5))\n",
        "F.binary_cross_entropy_with_logits(torch.randn(3, 5), torch.randn(3, 5))\n",
        "F.softmax(torch.randn(3, 5), dim=-1)\n",
        "F.relu(torch.randn(3, 5))"
      ]
    },
    {
      "cell_type": "code",
      "execution_count": 66,
      "metadata": {
        "colab": {
          "base_uri": "https://localhost:8080/"
        },
        "id": "FFc1z1RMUNvK",
        "outputId": "32570abd-4358-42c5-8823-893ff9bc07fa"
      },
      "outputs": [
        {
          "data": {
            "text/plain": [
              "tensor([[0.0000, 0.0000, 0.0000, 1.0948, 0.0000],\n",
              "        [0.0000, 1.0112, 0.0000, 1.3606, 0.6699],\n",
              "        [0.0000, 0.5092, 0.0000, 0.7903, 0.0000]])"
            ]
          },
          "execution_count": 66,
          "metadata": {},
          "output_type": "execute_result"
        }
      ],
      "source": [
        "# their equivalent in nn\n",
        "relu = nn.ReLU()\n",
        "relu(torch.randn(3, 5))"
      ]
    },
    {
      "cell_type": "markdown",
      "metadata": {
        "id": "2Wj8pZFKcJTZ"
      },
      "source": [
        "## Pytorch: optim, autograd, dataloader, and the training loop"
      ]
    },
    {
      "cell_type": "code",
      "execution_count": 67,
      "metadata": {
        "colab": {
          "base_uri": "https://localhost:8080/"
        },
        "id": "H-MnH1rzUWGR",
        "outputId": "3b3d121d-f7f9-44da-9c97-bccfc3c7bfda"
      },
      "outputs": [
        {
          "name": "stderr",
          "output_type": "stream",
          "text": [
            "100%|██████████| 10/10 [00:00<00:00, 144.38it/s]"
          ]
        },
        {
          "name": "stdout",
          "output_type": "stream",
          "text": [
            "12.173014640808105\n",
            "9.051483154296875\n",
            "3.2841999530792236\n",
            "Ellipsis\n",
            "32.21067428588867\n",
            "32.30604553222656\n",
            "0.3255595862865448\n",
            "Ellipsis\n",
            "13.084419250488281\n",
            "2.673468589782715\n",
            "9.460314750671387\n",
            "Ellipsis\n",
            "2.2826690673828125\n",
            "0.1342821568250656\n",
            "13.310517311096191\n",
            "Ellipsis\n",
            "2.1652278900146484\n",
            "4.1102705001831055\n",
            "1.9986295700073242\n",
            "Ellipsis\n",
            "1.9268252849578857\n",
            "2.248300075531006\n",
            "2.882119655609131\n",
            "Ellipsis\n",
            "1.6307878494262695\n",
            "3.948054552078247\n",
            "3.0228021144866943\n",
            "Ellipsis\n",
            "1.831444501876831\n",
            "2.718961477279663\n",
            "0.3836958110332489\n",
            "Ellipsis\n",
            "5.594423770904541\n",
            "9.708718299865723\n",
            "0.2650377154350281\n",
            "Ellipsis\n",
            "2.4355788230895996\n",
            "13.283886909484863\n",
            "0.08634630590677261\n",
            "Ellipsis\n"
          ]
        },
        {
          "name": "stderr",
          "output_type": "stream",
          "text": [
            "\n"
          ]
        }
      ],
      "source": [
        "from torch.utils.data import DataLoader, TensorDataset\n",
        "import torch.optim as optim\n",
        "\n",
        "# preparing dummy data\n",
        "xs = torch.arange(10, dtype=torch.float).view(-1, 1)\n",
        "torch.manual_seed(0)\n",
        "ys = xs + 2.0 + torch.randn_like(xs)\n",
        "dataset = TensorDataset(xs, ys)\n",
        "\n",
        "# specify model, loss, and optimizer\n",
        "model = nn.Linear(1, 1)\n",
        "loss_fn = nn.MSELoss()\n",
        "optimizer = optim.SGD(model.parameters(), lr=0.01, momentum=0.9)\n",
        "\n",
        "# training loop\n",
        "for epoch in tqdm.tqdm(range(10)):\n",
        "    dataloader = DataLoader(dataset, batch_size=4, shuffle=True)\n",
        "    for input, target in dataloader:\n",
        "        optimizer.zero_grad()\n",
        "        output = model(input) # forward pass\n",
        "        loss = loss_fn(output, target)\n",
        "        loss.backward()\n",
        "        optimizer.step()\n",
        "        print(loss.item())\n",
        "    val_acc = ...\n",
        "    print(val_acc)"
      ]
    },
    {
      "cell_type": "code",
      "execution_count": 68,
      "metadata": {
        "colab": {
          "base_uri": "https://localhost:8080/",
          "height": 448
        },
        "id": "HKogCswtaMZC",
        "outputId": "3cb84d6f-5c20-454a-ce01-9f95e9aa5aee"
      },
      "outputs": [
        {
          "data": {
            "text/plain": [
              "<matplotlib.legend.Legend at 0x7b758b377680>"
            ]
          },
          "execution_count": 68,
          "metadata": {},
          "output_type": "execute_result"
        },
        {
          "data": {
            "image/png": "[encoded data removed]",
            "text/plain": [
              "<Figure size 640x480 with 1 Axes>"
            ]
          },
          "metadata": {},
          "output_type": "display_data"
        }
      ],
      "source": [
        "import matplotlib.pyplot as plt\n",
        "\n",
        "plt.plot(xs.clone().detach().cpu().numpy(), ys.detach().numpy(), label=\"gt\")\n",
        "plt.plot(xs.detach().numpy(), model(xs).detach().numpy(), label=\"pred\")\n",
        "plt.legend()"
      ]
    },
    {
      "cell_type": "markdown",
      "metadata": {
        "id": "_lAsdnwlcoK5"
      },
      "source": [
        "Another look at how data is pipelined"
      ]
    },
    {
      "cell_type": "code",
      "execution_count": 69,
      "metadata": {
        "colab": {
          "base_uri": "https://localhost:8080/"
        },
        "id": "snJuzQBPctEa",
        "outputId": "750d77d9-7247-438e-9250-061acfccabd3"
      },
      "outputs": [
        {
          "name": "stdout",
          "output_type": "stream",
          "text": [
            "torch.Size([4, 1]) torch.Size([4, 1])\n",
            "torch.Size([4, 1]) torch.Size([4, 1])\n",
            "torch.Size([2, 1]) torch.Size([2, 1])\n"
          ]
        }
      ],
      "source": [
        "from torch.utils.data import DataLoader, Dataset\n",
        "\n",
        "# dataset handles IO from stream/online/disk...\n",
        "class MyDataset(Dataset):\n",
        "    def __init__(self, xs, ys):\n",
        "        # or load from disk\n",
        "        self.xs = xs\n",
        "        self.ys = ys\n",
        "\n",
        "    def __len__(self):\n",
        "        return len(self.xs)\n",
        "\n",
        "    # key method to write\n",
        "    def __getitem__(self, idx):\n",
        "      # preprocess\n",
        "        return self.xs[idx], self.ys[idx]\n",
        "\n",
        "# dataloader handles how each batch is delivered (lots of arguments) and on-the-fly preprocessing\n",
        "dataloader = DataLoader(\n",
        "    MyDataset(xs, ys),\n",
        "    batch_size=4,\n",
        "    shuffle=True,\n",
        "    # num_workers=2,  # handy heavy preprocessing\n",
        "    # collate_fn=None. # handy for dynamic padding\n",
        "    )\n",
        "for input, target in dataloader:\n",
        "    print(input.shape, target.shape)\n"
      ]
    },
    {
      "cell_type": "markdown",
      "metadata": {
        "id": "bNdM0iTaQAjf"
      },
      "source": [
        "## Run an experiment\n",
        "\n",
        "An experiment has lots of nitty-gritty besides defining the training loop, such as logging and monitoring.\n",
        "\n",
        "- why: reproducibility, cross-run comparison, online tracking for extra long runs, debug observability, identify overfitting, early stopping\n",
        "- what to save\n",
        "  - configuration (dataset name, lr, feature names, even code version, ...)\n",
        "  - model weights at each epoch\n",
        "- what to log\n",
        "  - train (mini-batch loss, gradient norm, isnan, accuracy, ...)\n",
        "  - val (accuracy per epoch, sample prompt, ...)\n",
        "  - other diagnostic stats (gpu usage, psutils cpu usage, ...)\n",
        "- try [wandb](https://docs.wandb.ai/quickstart/) or [tensorboard](https://pytorch.org/tutorials/recipes/recipes/tensorboard_with_pytorch.html) for experiment tracking\n"
      ]
    },
    {
      "cell_type": "markdown",
      "metadata": {
        "id": "20qiU1deP01g"
      },
      "source": [
        "## Case study: [minGPT](https://github.com/karpathy/minGPT)\n",
        "\n",
        "Let's go through each of these files\n",
        "- model.py\n",
        "- trainer.py\n",
        "- utils.py"
      ]
    },
    {
      "cell_type": "markdown",
      "metadata": {
        "id": "AeTIk4n3iCLF"
      },
      "source": [
        "## More resources\n",
        "- https://pytorch.org/tutorials/beginner/deep_learning_60min_blitz.html\n",
        "- https://huggingface.co/docs/transformers/en/quicktour\n"
      ]
    },
    {
      "cell_type": "markdown",
      "metadata": {
        "id": "xSzC-gjVlhXq"
      },
      "source": [
        "## Extra fun\n",
        "\n",
        "Identify the training loop in huggingface's Trainer: https://github.com/huggingface/transformers/blob/main/src/transformers/trainer.py\n",
        "\n",
        "Then find these core components:\n",
        "- create dataloaders\n",
        "- the forward pass\n",
        "- loss computation\n",
        "- take the gradient step\n",
        "- end-of-epoch validation\n",
        "\n",
        "What other features does it have to support experiment running?"
      ]
    }
  ],
  "metadata": {
    "accelerator": "GPU",
    "colab": {
      "gpuType": "T4",
      "provenance": [],
      "toc_visible": true
    },
    "kernelspec": {
      "display_name": "Python 3",
      "name": "python3"
    },
    "language_info": {
      "name": "python"
    }
  },
  "nbformat": 4,
  "nbformat_minor": 0
}
